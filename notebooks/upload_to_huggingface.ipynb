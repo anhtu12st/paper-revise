{
 "cells": [
  {
   "cell_type": "markdown",
   "metadata": {},
   "source": [
    "# Upload MemXLNet Model to Hugging Face Hub\n",
    "\n",
    "This notebook demonstrates how to upload a trained MemXLNet checkpoint to Hugging Face."
   ]
  },
  {
   "cell_type": "markdown",
   "metadata": {},
   "source": [
    "## 1. Install dependencies (if needed)"
   ]
  },
  {
   "cell_type": "code",
   "execution_count": 1,
   "metadata": {},
   "outputs": [],
   "source": [
    "# Uncomment if huggingface_hub is not installed\n",
    "# !pip install huggingface_hub"
   ]
  },
  {
   "cell_type": "markdown",
   "metadata": {},
   "source": [
    "## 2. Login to Hugging Face"
   ]
  },
  {
   "cell_type": "code",
   "execution_count": 2,
   "metadata": {},
   "outputs": [
    {
     "name": "stderr",
     "output_type": "stream",
     "text": [
      "Note: Environment variable`HF_TOKEN` is set and is the current active token independently from the token you've just configured.\n"
     ]
    },
    {
     "name": "stdout",
     "output_type": "stream",
     "text": [
      "✅ Logged in successfully\n"
     ]
    }
   ],
   "source": [
    "import os\n",
    "\n",
    "from dotenv import load_dotenv\n",
    "from huggingface_hub import login\n",
    "\n",
    "load_dotenv()\n",
    "\n",
    "# Auto-login with token from environment variable\n",
    "token = os.getenv(\"HF_TOKEN\")\n",
    "if token:\n",
    "    login(token=token)\n",
    "    print(\"✅ Logged in successfully\")\n",
    "else:\n",
    "    raise ValueError(\"HF_TOKEN environment variable not set. Set it with: export HF_TOKEN='your_token'\")"
   ]
  },
  {
   "cell_type": "markdown",
   "metadata": {},
   "source": [
    "## 3. Load your trained model"
   ]
  },
  {
   "cell_type": "code",
   "execution_count": 3,
   "metadata": {},
   "outputs": [
    {
     "name": "stdout",
     "output_type": "stream",
     "text": [
      "✅ Model loaded successfully\n"
     ]
    }
   ],
   "source": [
    "from transformers import XLNetTokenizerFast\n",
    "\n",
    "from memxlnet.models import MemXLNetForQA\n",
    "\n",
    "# Path to your checkpoint\n",
    "checkpoint_path = \"../outputs/xlnet-squad-phase2-1/stage_2_segs_2/best_model\"  # Change to your checkpoint\n",
    "\n",
    "# Load model and tokenizer\n",
    "model = MemXLNetForQA.from_pretrained(checkpoint_path)\n",
    "tokenizer = XLNetTokenizerFast.from_pretrained(checkpoint_path)\n",
    "\n",
    "print(\"✅ Model loaded successfully\")"
   ]
  },
  {
   "cell_type": "markdown",
   "metadata": {},
   "source": [
    "## 4. Upload to Hugging Face Hub"
   ]
  },
  {
   "cell_type": "code",
   "execution_count": 4,
   "metadata": {},
   "outputs": [
    {
     "data": {
      "application/vnd.jupyter.widget-view+json": {
       "model_id": "bb0ccb71557649e3bdce89b74bfe6bb0",
       "version_major": 2,
       "version_minor": 0
      },
      "text/plain": [
       "Processing Files (0 / 0): |          |  0.00B /  0.00B            "
      ]
     },
     "metadata": {},
     "output_type": "display_data"
    },
    {
     "data": {
      "application/vnd.jupyter.widget-view+json": {
       "model_id": "38e5185003b6449b805c83d11fe803df",
       "version_major": 2,
       "version_minor": 0
      },
      "text/plain": [
       "New Data Upload: |          |  0.00B /  0.00B            "
      ]
     },
     "metadata": {},
     "output_type": "display_data"
    },
    {
     "name": "stdout",
     "output_type": "stream",
     "text": [
      "✅ Model uploaded to: https://huggingface.co/anhtu12st/memxlnet-squad\n"
     ]
    }
   ],
   "source": [
    "# Set your repository name\n",
    "repo_name = \"anhtu12st/memxlnet-squad\"\n",
    "\n",
    "# Upload model\n",
    "model.push_to_hub(repo_name)\n",
    "\n",
    "# Upload tokenizer\n",
    "tokenizer.push_to_hub(repo_name)\n",
    "\n",
    "print(f\"✅ Model uploaded to: https://huggingface.co/{repo_name}\")"
   ]
  },
  {
   "cell_type": "markdown",
   "metadata": {},
   "source": [
    "## 5. (Optional) Add model card metadata"
   ]
  },
  {
   "cell_type": "code",
   "execution_count": 5,
   "metadata": {},
   "outputs": [],
   "source": [
    "# # You can add a README with model information\n",
    "# model_card = \"\"\"\n",
    "# ---\n",
    "# language: en\n",
    "# license: mit\n",
    "# tags:\n",
    "# - question-answering\n",
    "# - xlnet\n",
    "# - memory-augmented\n",
    "# datasets:\n",
    "# - squad_v2\n",
    "# ---\n",
    "\n",
    "# # MemXLNet for Question Answering\n",
    "\n",
    "# Memory-augmented XLNet model fine-tuned on SQuAD v2.\n",
    "\n",
    "# ## Usage\n",
    "\n",
    "# ```python\n",
    "# from memxlnet.models import MemXLNetForQA\n",
    "# from transformers import XLNetTokenizerFast\n",
    "\n",
    "# model = MemXLNetForQA.from_pretrained(\"your-username/memxlnet-squad\")\n",
    "# tokenizer = XLNetTokenizerFast.from_pretrained(\"your-username/memxlnet-squad\")\n",
    "# ```\n",
    "# \"\"\"\n",
    "\n",
    "# # Save to repo\n",
    "# from huggingface_hub import HfApi  # noqa: E402\n",
    "\n",
    "# api = HfApi()\n",
    "# api.upload_file(\n",
    "#     path_or_fileobj=model_card.encode(),\n",
    "#     path_in_repo=\"README.md\",\n",
    "#     repo_id=repo_name,\n",
    "# )\n",
    "\n",
    "# print(\"✅ Model card uploaded\")"
   ]
  }
 ],
 "metadata": {
  "kernelspec": {
   "display_name": "memxlnet-qa (3.12.6)",
   "language": "python",
   "name": "python3"
  },
  "language_info": {
   "codemirror_mode": {
    "name": "ipython",
    "version": 3
   },
   "file_extension": ".py",
   "mimetype": "text/x-python",
   "name": "python",
   "nbconvert_exporter": "python",
   "pygments_lexer": "ipython3",
   "version": "3.12.6"
  }
 },
 "nbformat": 4,
 "nbformat_minor": 2
}
